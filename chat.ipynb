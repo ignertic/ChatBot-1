{
 "cells": [
  {
   "cell_type": "code",
   "execution_count": null,
   "metadata": {},
   "outputs": [
    {
     "name": "stderr",
     "output_type": "stream",
     "text": [
      "C:\\Users\\wenka_000\\Anaconda3\\envs\\chat\\lib\\site-packages\\numpy\\core\\__init__.py:29: UserWarning: loaded more than 1 DLL from .libs:\n",
      "C:\\Users\\wenka_000\\Anaconda3\\envs\\chat\\lib\\site-packages\\numpy\\.libs\\libopenblas.IPBC74C7KURV7CB2PKT5Z5FNR3SIBV4J.gfortran-win_amd64.dll\n",
      "C:\\Users\\wenka_000\\Anaconda3\\envs\\chat\\lib\\site-packages\\numpy\\.libs\\libopenblas.TXA6YQSD3GCQQC22GEQ54J2UDCXDXHWN.gfortran-win_amd64.dll\n",
      "  stacklevel=1)\n",
      "[nltk_data] Downloading package averaged_perceptron_tagger to\n",
      "[nltk_data]     C:\\Users\\wenka_000\\AppData\\Roaming\\nltk_data...\n",
      "[nltk_data]   Package averaged_perceptron_tagger is already up-to-\n",
      "[nltk_data]       date!\n",
      "[nltk_data] Downloading package stopwords to\n",
      "[nltk_data]     C:\\Users\\wenka_000\\AppData\\Roaming\\nltk_data...\n",
      "[nltk_data]   Package stopwords is already up-to-date!\n",
      "C:\\Users\\wenka_000\\Anaconda3\\envs\\chat\\lib\\site-packages\\chatterbot\\corpus.py:38: YAMLLoadWarning: calling yaml.load() without Loader=... is deprecated, as the default Loader is unsafe. Please read https://msg.pyyaml.org/load for full details.\n",
      "  return yaml.load(data_file)\n"
     ]
    },
    {
     "name": "stdout",
     "output_type": "stream",
     "text": [
      "Training bye.yml: [####################] 100%\n",
      "Training conversations.yml: [####################] 100%\n",
      "Training food.yml: [####################] 100%\n",
      "Training greetings.yml: [####################] 100%\n",
      "Training humor.yml: [####################] 100%\n",
      "Training profile.yml: [####################] 100%\n",
      "Training school.yml: [####################] 100%\n",
      "Training weekend.yml: [####################] 100%\n",
      "Type something to begin...\n",
      "You :hi\n",
      "Lucas : How are you doing\n"
     ]
    }
   ],
   "source": [
    "from chatterbot import ChatBot\n",
    "from chatterbot.trainers import ListTrainer\n",
    "from chatterbot.trainers import ChatterBotCorpusTrainer\n",
    "bot = ChatBot(\n",
    "    'Test',\n",
    "    storage_adapter='chatterbot.storage.SQLStorageAdapter',\n",
    "    logic_adapters=[\n",
    "        'chatterbot.logic.BestMatch'\n",
    "    ],\n",
    "    database_uri='sqlite:///database.db'\n",
    ")\n",
    "\n",
    "trainer1 = ListTrainer(bot)\n",
    "trainer2 = ChatterBotCorpusTrainer(bot)\n",
    "trainer2.train(\"chatterbot.corpus.english\")\n",
    "\n",
    "#trainer1.train([\n",
    "    #\"just testing\",\n",
    "   # \"it work, wow\"\n",
    "#])\n",
    "\n",
    "\n",
    "print('Type something to begin...')\n",
    "\n",
    "# The following loop will execute each time the user enters input\n",
    "while True:\n",
    "    try:\n",
    "        user_input = input(\"You :\")\n",
    "\n",
    "        bot_response = bot.get_response(user_input)\n",
    "        if bot_response.confidence > 0.5:\n",
    "            print(\"Lucas :\",bot_response)\n",
    "        else:\n",
    "            print(\"Lucas : I dont understand this\",)\n",
    "\n",
    "    # Press ctrl-c or ctrl-d on the keyboard to exit\n",
    "    except (KeyboardInterrupt, EOFError, SystemExit):\n",
    "        break"
   ]
  },
  {
   "cell_type": "code",
   "execution_count": null,
   "metadata": {},
   "outputs": [],
   "source": []
  }
 ],
 "metadata": {
  "kernelspec": {
   "display_name": "Python 3",
   "language": "python",
   "name": "python3"
  },
  "language_info": {
   "codemirror_mode": {
    "name": "ipython",
    "version": 3
   },
   "file_extension": ".py",
   "mimetype": "text/x-python",
   "name": "python",
   "nbconvert_exporter": "python",
   "pygments_lexer": "ipython3",
   "version": "3.6.8"
  }
 },
 "nbformat": 4,
 "nbformat_minor": 2
}
